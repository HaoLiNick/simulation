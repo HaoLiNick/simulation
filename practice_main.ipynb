{
 "cells": [
  {
   "cell_type": "markdown",
   "id": "3dbcc972",
   "metadata": {},
   "source": [
    "## Global Variable and Functions"
   ]
  },
  {
   "cell_type": "code",
   "execution_count": 20,
   "id": "ecb9eb4e",
   "metadata": {},
   "outputs": [],
   "source": [
    "import itertools\n",
    "import seaborn as sns\n",
    "import datetime\n",
    "from collections import OrderedDict\n",
    "import warnings\n",
    "# warnings.filterwarnings(\"ignore\")\n",
    "import pandas as pd\n",
    "import numpy as np\n",
    "import numpy.random as npr\n",
    "from pylab import plt, mpl\n",
    "import math\n",
    "pd.set_option(\"display.max_columns\", None)\n",
    "sns.set_style(\"darkgrid\")\n",
    "\n",
    "T=3\n",
    "FREQUENCY = 'Weekly'\n",
    "Year1_Step = 52\n",
    "Year2_Step = 52\n",
    "Year3_Step = 51"
   ]
  },
  {
   "cell_type": "markdown",
   "id": "6dc8e445",
   "metadata": {},
   "source": [
    "## Make up a toy data set"
   ]
  },
  {
   "cell_type": "code",
   "execution_count": 21,
   "id": "19e5cb85",
   "metadata": {},
   "outputs": [],
   "source": [
    "Toy_df = pd.DataFrame(columns=['Year1_Beta','Year1_Sigma','Year2_Beta','Year2_Sigma','Year3_Beta','Year3_Sigma',\n",
    "                               'Total_Beta','Total_Sigma'],data=npr.standard_exponential([5,8]))\n",
    "\n",
    "Toy_df['Channel'] = ['Ch1', 'Ch2', 'Ch3', 'Ch4', 'Ch5']"
   ]
  },
  {
   "cell_type": "code",
   "execution_count": 22,
   "id": "3e1fe8d9",
   "metadata": {},
   "outputs": [
    {
     "data": {
      "text/html": [
       "<div>\n",
       "<style scoped>\n",
       "    .dataframe tbody tr th:only-of-type {\n",
       "        vertical-align: middle;\n",
       "    }\n",
       "\n",
       "    .dataframe tbody tr th {\n",
       "        vertical-align: top;\n",
       "    }\n",
       "\n",
       "    .dataframe thead th {\n",
       "        text-align: right;\n",
       "    }\n",
       "</style>\n",
       "<table border=\"1\" class=\"dataframe\">\n",
       "  <thead>\n",
       "    <tr style=\"text-align: right;\">\n",
       "      <th></th>\n",
       "      <th>Year1_Beta</th>\n",
       "      <th>Year1_Sigma</th>\n",
       "      <th>Year2_Beta</th>\n",
       "      <th>Year2_Sigma</th>\n",
       "      <th>Year3_Beta</th>\n",
       "      <th>Year3_Sigma</th>\n",
       "      <th>Total_Beta</th>\n",
       "      <th>Total_Sigma</th>\n",
       "      <th>Channel</th>\n",
       "    </tr>\n",
       "  </thead>\n",
       "  <tbody>\n",
       "    <tr>\n",
       "      <th>0</th>\n",
       "      <td>0.685994</td>\n",
       "      <td>0.903489</td>\n",
       "      <td>0.336807</td>\n",
       "      <td>2.301974</td>\n",
       "      <td>2.632105</td>\n",
       "      <td>0.841765</td>\n",
       "      <td>1.574976</td>\n",
       "      <td>0.225879</td>\n",
       "      <td>Ch1</td>\n",
       "    </tr>\n",
       "    <tr>\n",
       "      <th>1</th>\n",
       "      <td>1.223270</td>\n",
       "      <td>0.453877</td>\n",
       "      <td>0.800685</td>\n",
       "      <td>0.062940</td>\n",
       "      <td>2.278373</td>\n",
       "      <td>3.509709</td>\n",
       "      <td>0.456905</td>\n",
       "      <td>0.021946</td>\n",
       "      <td>Ch2</td>\n",
       "    </tr>\n",
       "    <tr>\n",
       "      <th>2</th>\n",
       "      <td>2.114214</td>\n",
       "      <td>0.206108</td>\n",
       "      <td>1.320888</td>\n",
       "      <td>0.145631</td>\n",
       "      <td>0.373330</td>\n",
       "      <td>0.505075</td>\n",
       "      <td>2.001086</td>\n",
       "      <td>1.211118</td>\n",
       "      <td>Ch3</td>\n",
       "    </tr>\n",
       "    <tr>\n",
       "      <th>3</th>\n",
       "      <td>1.466886</td>\n",
       "      <td>1.127267</td>\n",
       "      <td>0.040260</td>\n",
       "      <td>0.314592</td>\n",
       "      <td>0.081626</td>\n",
       "      <td>1.087048</td>\n",
       "      <td>0.358551</td>\n",
       "      <td>1.215615</td>\n",
       "      <td>Ch4</td>\n",
       "    </tr>\n",
       "    <tr>\n",
       "      <th>4</th>\n",
       "      <td>0.292049</td>\n",
       "      <td>1.336780</td>\n",
       "      <td>2.094373</td>\n",
       "      <td>0.997286</td>\n",
       "      <td>3.229589</td>\n",
       "      <td>0.085106</td>\n",
       "      <td>0.566373</td>\n",
       "      <td>0.144781</td>\n",
       "      <td>Ch5</td>\n",
       "    </tr>\n",
       "  </tbody>\n",
       "</table>\n",
       "</div>"
      ],
      "text/plain": [
       "   Year1_Beta  Year1_Sigma  Year2_Beta  Year2_Sigma  Year3_Beta  Year3_Sigma  \\\n",
       "0    0.685994     0.903489    0.336807     2.301974    2.632105     0.841765   \n",
       "1    1.223270     0.453877    0.800685     0.062940    2.278373     3.509709   \n",
       "2    2.114214     0.206108    1.320888     0.145631    0.373330     0.505075   \n",
       "3    1.466886     1.127267    0.040260     0.314592    0.081626     1.087048   \n",
       "4    0.292049     1.336780    2.094373     0.997286    3.229589     0.085106   \n",
       "\n",
       "   Total_Beta  Total_Sigma Channel  \n",
       "0    1.574976     0.225879     Ch1  \n",
       "1    0.456905     0.021946     Ch2  \n",
       "2    2.001086     1.211118     Ch3  \n",
       "3    0.358551     1.215615     Ch4  \n",
       "4    0.566373     0.144781     Ch5  "
      ]
     },
     "execution_count": 22,
     "metadata": {},
     "output_type": "execute_result"
    }
   ],
   "source": [
    "Toy_df"
   ]
  },
  {
   "cell_type": "code",
   "execution_count": null,
   "id": "38bbc84e",
   "metadata": {},
   "outputs": [],
   "source": []
  }
 ],
 "metadata": {
  "kernelspec": {
   "display_name": "Python 3 (ipykernel)",
   "language": "python",
   "name": "python3"
  },
  "language_info": {
   "codemirror_mode": {
    "name": "ipython",
    "version": 3
   },
   "file_extension": ".py",
   "mimetype": "text/x-python",
   "name": "python",
   "nbconvert_exporter": "python",
   "pygments_lexer": "ipython3",
   "version": "3.9.12"
  }
 },
 "nbformat": 4,
 "nbformat_minor": 5
}
